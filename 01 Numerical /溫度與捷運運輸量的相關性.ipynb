{
 "cells": [
  {
   "cell_type": "markdown",
   "metadata": {},
   "source": [
    "# 溫度與捷運運輸量的相關性\n",
    "\n",
    "資料來源:https://data.gov.tw/dataset/61797\n",
    "https://www.cwb.gov.tw/\n",
    "\n",
    "主要想探討溫度與捷運運輸量之間是否有出現相關性。"
   ]
  },
  {
   "cell_type": "markdown",
   "metadata": {},
   "source": [
    "#讀取2016年及2017年每月份的捷運運輸量\n",
    " Month 為月份\n",
    " Average transport amout 為每月份總運輸量的平均值(單位:人次)\n",
    " temperature為2016/2017年月均溫"
   ]
  },
  {
   "cell_type": "code",
   "execution_count": 20,
   "metadata": {
    "scrolled": false
   },
   "outputs": [
    {
     "data": {
      "text/html": [
       "<div>\n",
       "<style scoped>\n",
       "    .dataframe tbody tr th:only-of-type {\n",
       "        vertical-align: middle;\n",
       "    }\n",
       "\n",
       "    .dataframe tbody tr th {\n",
       "        vertical-align: top;\n",
       "    }\n",
       "\n",
       "    .dataframe thead th {\n",
       "        text-align: right;\n",
       "    }\n",
       "</style>\n",
       "<table border=\"1\" class=\"dataframe\">\n",
       "  <thead>\n",
       "    <tr style=\"text-align: right;\">\n",
       "      <th></th>\n",
       "      <th>Month</th>\n",
       "      <th>Average Transport Amount (people)</th>\n",
       "      <th>temperature</th>\n",
       "    </tr>\n",
       "  </thead>\n",
       "  <tbody>\n",
       "    <tr>\n",
       "      <th>0</th>\n",
       "      <td>201601</td>\n",
       "      <td>2015843</td>\n",
       "      <td>16.2</td>\n",
       "    </tr>\n",
       "    <tr>\n",
       "      <th>1</th>\n",
       "      <td>201602</td>\n",
       "      <td>1926929</td>\n",
       "      <td>15.5</td>\n",
       "    </tr>\n",
       "    <tr>\n",
       "      <th>2</th>\n",
       "      <td>201603</td>\n",
       "      <td>2099816</td>\n",
       "      <td>17.5</td>\n",
       "    </tr>\n",
       "    <tr>\n",
       "      <th>3</th>\n",
       "      <td>201604</td>\n",
       "      <td>1993945</td>\n",
       "      <td>24.0</td>\n",
       "    </tr>\n",
       "    <tr>\n",
       "      <th>4</th>\n",
       "      <td>201605</td>\n",
       "      <td>2020689</td>\n",
       "      <td>27.1</td>\n",
       "    </tr>\n",
       "  </tbody>\n",
       "</table>\n",
       "</div>"
      ],
      "text/plain": [
       "    Month  Average Transport Amount (people)  temperature\n",
       "0  201601                            2015843         16.2\n",
       "1  201602                            1926929         15.5\n",
       "2  201603                            2099816         17.5\n",
       "3  201604                            1993945         24.0\n",
       "4  201605                            2020689         27.1"
      ]
     },
     "execution_count": 20,
     "metadata": {},
     "output_type": "execute_result"
    }
   ],
   "source": [
    "%matplotlib inline\n",
    "import matplotlib.pyplot as plt\n",
    "import pandas as pd\n",
    "import numpy as np\n",
    "import scipy.stats as stats\n",
    "\n",
    "# This is a custom matplotlib style that I use for most of my charts\n",
    "#plt.style.use('https://gist.githubusercontent.com/rhiever/d0a7332fe0beebfdc3d5/raw/205e477cf231330fe2f265070f7c37982fd3130c/tableau10.mplstyle')\n",
    "\n",
    "MRT_AVG = pd.read_csv('MRT_month.csv')\n",
    "MRT_AVG.head()\n"
   ]
  },
  {
   "cell_type": "code",
   "execution_count": 19,
   "metadata": {
    "scrolled": true
   },
   "outputs": [
    {
     "data": {
      "text/plain": [
       "''"
      ]
     },
     "execution_count": 19,
     "metadata": {},
     "output_type": "execute_result"
    },
    {
     "data": {
      "image/png": "[encoded data removed]",
      "text/plain": [
       "<Figure size 1800x504 with 1 Axes>"
      ]
     },
     "metadata": {},
     "output_type": "display_data"
    }
   ],
   "source": [
    "fig = plt.figure(figsize=(25, 7))\n",
    "ax1 = fig.add_subplot(111)\n",
    "\n",
    "for (i, row) in MRT_AVG.iterrows():\n",
    "    plt.bar([i - 0.2, i + 0.2], [row['Average Transport Amount (people)']],\n",
    "            color=['#009FCC'], width=0.4, align='center', edgecolor='none')\n",
    "    \n",
    "#plt.xlim(-0.6, 20.6)\n",
    "plt.xticks(range(0, 24), MRT_AVG['Month'], fontsize=11)\n",
    "plt.grid(False, axis='x')\n",
    "plt.yticks(np.arange(0, 4e6, 1e6),\n",
    "           ['{}m'.format(int(x / 1e6)) if x > 0 else 0 for x in np.arange(0, 4e6, 1e6)])\n",
    "\n",
    "for x,y in enumerate(MRT_AVG['Average Transport Amount (people)']):\n",
    "\n",
    "    plt.text(x, y+0.05, '%.0f' % y, ha='center', va= 'bottom',fontsize=11)\n",
    "\n",
    "plt.xlabel('Month')\n",
    "plt.ylabel('Average Transport Amount (people)')\n",
    "\n",
    "plt.savefig('pop_pyramid_grouped.pdf')\n",
    ";"
   ]
  },
  {
   "cell_type": "markdown",
   "metadata": {},
   "source": [
    "上方圖示為每月份總運輸量的直條圖\n",
    "每個柱狀上方為總運輸人數的平均值\n"
   ]
  },
  {
   "cell_type": "code",
   "execution_count": 21,
   "metadata": {
    "scrolled": false
   },
   "outputs": [
    {
     "data": {
      "text/plain": [
       "0     2015843\n",
       "1     1926929\n",
       "2     2099816\n",
       "3     1993945\n",
       "4     2020689\n",
       "5     1964780\n",
       "6     1961747\n",
       "7     2035594\n",
       "8     1874315\n",
       "9     2025883\n",
       "10    2093201\n",
       "11    2237913\n",
       "12    1936615\n",
       "13    2046706\n",
       "14    2122548\n",
       "15    2034486\n",
       "16    2010690\n",
       "17    2020000\n",
       "18    1962774\n",
       "19    2043185\n",
       "20    2008376\n",
       "21    1993600\n",
       "22    2101132\n",
       "23    2247974\n",
       "Name: Average Transport Amount (people), dtype: int64"
      ]
     },
     "execution_count": 21,
     "metadata": {},
     "output_type": "execute_result"
    }
   ],
   "source": [
    "y = MRT_AVG['Average Transport Amount (people)']\n",
    "y"
   ]
  },
  {
   "cell_type": "markdown",
   "metadata": {},
   "source": [
    "上方為列出2016/2017年每個月運輸量的平均值\n",
    "(0代表2016年一月，1代表2016年二月，以此類推)"
   ]
  },
  {
   "cell_type": "code",
   "execution_count": 22,
   "metadata": {
    "scrolled": false
   },
   "outputs": [
    {
     "data": {
      "text/plain": [
       "0     16.2\n",
       "1     15.5\n",
       "2     17.5\n",
       "3     24.0\n",
       "4     27.1\n",
       "5     29.4\n",
       "6     30.3\n",
       "7     30.1\n",
       "8     27.8\n",
       "9     27.0\n",
       "10    22.6\n",
       "11    20.1\n",
       "12    18.3\n",
       "13    17.0\n",
       "14    18.2\n",
       "15    22.5\n",
       "16    25.6\n",
       "17    28.0\n",
       "18    30.3\n",
       "19    31.1\n",
       "20    29.6\n",
       "21    25.6\n",
       "22    22.5\n",
       "23    17.8\n",
       "Name: temperature, dtype: float64"
      ]
     },
     "execution_count": 22,
     "metadata": {},
     "output_type": "execute_result"
    }
   ],
   "source": [
    "x = MRT_AVG['temperature']\n",
    "x"
   ]
  },
  {
   "cell_type": "markdown",
   "metadata": {},
   "source": [
    "上方為列出2016/2017年的月均溫\n",
    "(0代表2016年一月，1代表2016年二月，以此類推)"
   ]
  },
  {
   "cell_type": "code",
   "execution_count": 23,
   "metadata": {
    "scrolled": false
   },
   "outputs": [
    {
     "data": {
      "text/plain": [
       "[<matplotlib.lines.Line2D at 0x15414ee7710>]"
      ]
     },
     "execution_count": 23,
     "metadata": {},
     "output_type": "execute_result"
    },
    {
     "data": {
      "image/png": "[encoded data removed]",
      "text/plain": [
       "<Figure size 432x288 with 1 Axes>"
      ]
     },
     "metadata": {},
     "output_type": "display_data"
    }
   ],
   "source": [
    "plt.plot(x,y, 'bo')"
   ]
  },
  {
   "cell_type": "markdown",
   "metadata": {},
   "source": [
    "上方為分布圖\n",
    "X軸為溫度\n",
    "Y軸為人次\n",
    "\n",
    "從圖可看出氣溫與搭乘量似乎沒有太大的關聯，為了要證明此事，我們將數值算出。"
   ]
  },
  {
   "cell_type": "code",
   "execution_count": 25,
   "metadata": {
    "scrolled": true
   },
   "outputs": [
    {
     "data": {
      "text/plain": [
       "(-0.372243219728734, 0.07325038652603828)"
      ]
     },
     "execution_count": 25,
     "metadata": {},
     "output_type": "execute_result"
    }
   ],
   "source": [
    "stats.pearsonr(x,y)"
   ]
  },
  {
   "cell_type": "markdown",
   "metadata": {},
   "source": [
    "從數值上我們可以發現氣溫與搭乘量沒有太大的關聯，因為相關係數只有-0.37且P值達0.07。\n",
    "\n",
    "但是氣溫與搭乘量呈現負相關的情況卻似乎是合理的情形。"
   ]
  }
 ],
 "metadata": {
  "kernelspec": {
   "display_name": "Python 3",
   "language": "python",
   "name": "python3"
  },
  "language_info": {
   "codemirror_mode": {
    "name": "ipython",
    "version": 3
   },
   "file_extension": ".py",
   "mimetype": "text/x-python",
   "name": "python",
   "nbconvert_exporter": "python",
   "pygments_lexer": "ipython3",
   "version": "3.6.5"
  }
 },
 "nbformat": 4,
 "nbformat_minor": 1
}
